{
 "cells": [
  {
   "cell_type": "markdown",
   "id": "7f6b3a55",
   "metadata": {
    "vscode": {
     "languageId": "plaintext"
    }
   },
   "source": [
    "# Building Langgraph Image"
   ]
  },
  {
   "cell_type": "code",
   "execution_count": 2,
   "id": "c2c72d7d",
   "metadata": {},
   "outputs": [
    {
     "name": "stderr",
     "output_type": "stream",
     "text": [
      "c:\\Users\\aguda\\OneDrive\\Desktop\\World Cup Rag Chat Bot\\.venv\\Lib\\site-packages\\tqdm\\auto.py:21: TqdmWarning: IProgress not found. Please update jupyter and ipywidgets. See https://ipywidgets.readthedocs.io/en/stable/user_install.html\n",
      "  from .autonotebook import tqdm as notebook_tqdm\n"
     ]
    }
   ],
   "source": [
    "from backend import Preprocessing\n",
    "from langgraph.graph import StateGraph, END\n",
    "from typing import TypedDict, List, Tuple\n",
    "from langchain_core.documents import Document\n",
    "from IPython.display import display, Markdown\n",
    "\n",
    "class RAGState(TypedDict):\n",
    "    query: str\n",
    "    reformulations: List[str]\n",
    "    all_queries: List[str]\n",
    "    query_embeddings: List  # list of numpy arrays\n",
    "    retrieved_docs: List[Document]\n",
    "    chat_history: List[Tuple[str, str]]\n",
    "    answer: str\n",
    "\n",
    "processor = Preprocessing()\n",
    "\n",
    "def generate_reformulations(state: RAGState) -> RAGState:\n",
    "    reformulations = processor.generate_query_reformulations(state[\"query\"])\n",
    "    return {\n",
    "        **state,\n",
    "        \"reformulations\": reformulations,\n",
    "        \"all_queries\": [state[\"query\"]] + reformulations\n",
    "    }\n",
    "\n",
    "def embed_all_queries(state: RAGState) -> RAGState:\n",
    "    embeddings = [processor.embed_query(q) for q in state[\"all_queries\"]]\n",
    "    return {\n",
    "        **state,\n",
    "        \"query_embeddings\": embeddings\n",
    "    }\n",
    "\n",
    "def retrieve_docs(state: RAGState) -> RAGState:\n",
    "    file_path = \"chunked_world_cup_data_final1.csv\"\n",
    "    embeddings_file = \"worldcup_embeddings.npy\"\n",
    "    docs = processor.load_csv_documents(file_path)\n",
    "    doc_embeddings = processor.create_document_embeddings(docs, embeddings_file)\n",
    "    retrieved_docs = processor.rag_fusion_retrieval(state[\"query\"], docs, doc_embeddings)\n",
    "    return {\n",
    "        **state,\n",
    "        \"retrieved_docs\": retrieved_docs\n",
    "    }\n",
    "\n",
    "def answer_question(state: RAGState) -> RAGState:\n",
    "    answer = processor.ask_groq_chatbot(state[\"query\"], state[\"retrieved_docs\"], state[\"chat_history\"])\n",
    "    return {\n",
    "        **state,\n",
    "        \"answer\": answer\n",
    "    }\n",
    "\n",
    "def update_chat(state: RAGState) -> RAGState:\n",
    "    updated_history = state[\"chat_history\"] + [(state[\"query\"], state[\"answer\"])]\n",
    "    return {\n",
    "        **state,\n",
    "        \"chat_history\": updated_history\n",
    "    }\n",
    "\n",
    "# === Build and Visualize LangGraph ===\n",
    "graph = StateGraph(RAGState)\n",
    "graph.add_node(\"Generate Reformulations\", generate_reformulations)\n",
    "graph.add_node(\"Embed Queries\", embed_all_queries)\n",
    "graph.add_node(\"Retrieve Docs\", retrieve_docs)\n",
    "graph.add_node(\"Answer Question\", answer_question)\n",
    "graph.add_node(\"Update History\", update_chat)\n",
    "\n",
    "graph.set_entry_point(\"Generate Reformulations\")\n",
    "graph.add_edge(\"Generate Reformulations\", \"Embed Queries\")\n",
    "graph.add_edge(\"Embed Queries\", \"Retrieve Docs\")\n",
    "graph.add_edge(\"Retrieve Docs\", \"Answer Question\")\n",
    "graph.add_edge(\"Answer Question\", \"Update History\")\n",
    "graph.add_edge(\"Update History\", END)\n",
    "\n",
    "# Render the graph using Mermaid syntax\n",
    "\n",
    "# mermaid_code = graph.draw_mermaid_png()\n",
    "# display(Markdown(f\"```mermaid\\n{mermaid_code}\\n```\"))\n",
    "graph = graph.compile()"
   ]
  },
  {
   "cell_type": "code",
   "execution_count": 3,
   "id": "7c4cca52",
   "metadata": {},
   "outputs": [
    {
     "data": {
      "image/png": "[encoded data removed]",
      "text/plain": [
       "<IPython.core.display.Image object>"
      ]
     },
     "metadata": {},
     "output_type": "display_data"
    }
   ],
   "source": [
    "from IPython.display import Image,display\n",
    "\n",
    "try:\n",
    "    display(Image(graph.get_graph().draw_mermaid_png()))\n",
    "except Exception:\n",
    "    pass"
   ]
  },
  {
   "cell_type": "code",
   "execution_count": null,
   "id": "10583a7d",
   "metadata": {},
   "outputs": [],
   "source": []
  }
 ],
 "metadata": {
  "kernelspec": {
   "display_name": "World Cup Rag Chat Bot",
   "language": "python",
   "name": "python3"
  },
  "language_info": {
   "codemirror_mode": {
    "name": "ipython",
    "version": 3
   },
   "file_extension": ".py",
   "mimetype": "text/x-python",
   "name": "python",
   "nbconvert_exporter": "python",
   "pygments_lexer": "ipython3",
   "version": "3.12.10"
  }
 },
 "nbformat": 4,
 "nbformat_minor": 5
}
